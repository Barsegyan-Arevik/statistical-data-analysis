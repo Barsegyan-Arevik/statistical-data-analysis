{
 "cells": [
  {
   "cell_type": "code",
   "execution_count": 8,
   "id": "20e63e90",
   "metadata": {},
   "outputs": [
    {
     "name": "stdout",
     "output_type": "stream",
     "text": [
      "Дисперсии выборок равны\n"
     ]
    }
   ],
   "source": [
    "import pandas as pd\n",
    "import numpy as np\n",
    "\n",
    "# Загрузка данных из файла\n",
    "data = pd.read_csv('data_big.csv')\n",
    "\n",
    "# Получение выборок\n",
    "sample1 = data['diarrhea.1']\n",
    "sample2 = data['weakness.1']\n",
    "\n",
    "def equal_var_test(sample1, sample2, alpha=0.05):\n",
    "    var1 = np.var(sample1, ddof=1)  # Вычисление выборочной дисперсии первой выборки\n",
    "    var2 = np.var(sample2, ddof=1)  # Вычисление выборочной дисперсии второй выборки\n",
    "    \n",
    "    F = var1 / var2  # Вычисление статистики F-распределения\n",
    "    F_critical = 1 / F  # Критическое значение статистики F-распределения\n",
    "    \n",
    "    if F < F_critical:\n",
    "        return True\n",
    "    else:\n",
    "        return False\n",
    "\n",
    "# Проверка гипотезы о равенстве дисперсий\n",
    "if equal_var_test(sample1, sample2):\n",
    "    print(\"Дисперсии выборок равны\")\n",
    "else:\n",
    "    print(\"Дисперсии выборок не равны\")\n"
   ]
  },
  {
   "cell_type": "code",
   "execution_count": 9,
   "id": "256f3d2d",
   "metadata": {},
   "outputs": [
    {
     "name": "stdout",
     "output_type": "stream",
     "text": [
      "Средние значения выборок не равны\n"
     ]
    }
   ],
   "source": [
    "from scipy.stats import ttest_ind\n",
    "\n",
    "def t_test(sample1, sample2, alpha=0.05):\n",
    "    t_stat, p_value = ttest_ind(sample1, sample2)\n",
    "    \n",
    "    if p_value > alpha:\n",
    "        return True\n",
    "    else:\n",
    "        return False\n",
    "\n",
    "# Проверка гипотезы о равенстве средних значений\n",
    "if t_test(sample1, sample2):\n",
    "    print(\"Средние значения выборок равны\")\n",
    "else:\n",
    "    print(\"Средние значения выборок не равны\")"
   ]
  },
  {
   "cell_type": "code",
   "execution_count": 11,
   "id": "1c58ef5c",
   "metadata": {},
   "outputs": [
    {
     "name": "stdout",
     "output_type": "stream",
     "text": [
      "                    sum_sq    df         F    PR(>F)\n",
      "factor_variable   0.826920   1.0  2.004275  0.166516\n",
      "Residual         13.202492  32.0       NaN       NaN\n",
      "Гипотеза о равенстве дисперсий принимается\n",
      "Test Multiple Comparison ttest_ind \n",
      "FWER=0.05 method=holm\n",
      "alphacSidak=0.02, alphacBonf=0.017\n",
      "===========================================\n",
      "group1 group2   stat  pval pval_corr reject\n",
      "-------------------------------------------\n",
      "     0      1     nan  nan       nan  False\n",
      "     0      2     nan  nan       nan  False\n",
      "     1      2 -0.5298  0.6       1.0  False\n",
      "-------------------------------------------\n"
     ]
    },
    {
     "name": "stderr",
     "output_type": "stream",
     "text": [
      "C:\\Python310\\lib\\site-packages\\scipy\\stats\\_stats_py.py:1214: RuntimeWarning: divide by zero encountered in divide\n",
      "  var *= np.divide(n, n-ddof)  # to avoid error on division by zero\n",
      "C:\\Python310\\lib\\site-packages\\scipy\\stats\\_stats_py.py:1214: RuntimeWarning: invalid value encountered in double_scalars\n",
      "  var *= np.divide(n, n-ddof)  # to avoid error on division by zero\n"
     ]
    }
   ],
   "source": [
    "import pandas as pd\n",
    "import statsmodels\n",
    "import statsmodels.api as sm\n",
    "from statsmodels.formula.api import ols\n",
    "from scipy import stats\n",
    "from statsmodels.stats import multicomp\n",
    "\n",
    "# Загрузка данных из файла\n",
    "data = pd.read_csv('data_big.csv')\n",
    "\n",
    "# Получение переменных\n",
    "factor_variable = data['tremor.1']\n",
    "target_variable = data['weakness.1']\n",
    "\n",
    "# Создание модели однофакторного дисперсионного анализа\n",
    "model = ols('target_variable ~ factor_variable', data=data).fit()\n",
    "\n",
    "# Проведение однофакторного дисперсионного анализа\n",
    "anova_table = sm.stats.anova_lm(model, typ=2)\n",
    "\n",
    "# Вывод таблицы ANOVA\n",
    "print(anova_table)\n",
    "\n",
    "# Проверка гипотезы о равенстве дисперсий\n",
    "p_value = anova_table['PR(>F)'][0]\n",
    "alpha = 0.05\n",
    "\n",
    "if p_value > alpha:\n",
    "    print(\"Гипотеза о равенстве дисперсий принимается\")\n",
    "else:\n",
    "    print(\"Гипотеза о равенстве дисперсий отвергается\")\n",
    "\n",
    "# Множественные сравнения с поправками (например, метод Холма)\n",
    "mc = sm.stats.multicomp.MultiComparison(data['weakness.1'], data['tremor.1'])\n",
    "mc_results = mc.allpairtest(stats.ttest_ind, method='holm')\n",
    "\n",
    "# Вывод результатов множественных сравнений\n",
    "print(mc_results[0])\n"
   ]
  },
  {
   "cell_type": "code",
   "execution_count": 12,
   "id": "77cd8962",
   "metadata": {},
   "outputs": [
    {
     "name": "stdout",
     "output_type": "stream",
     "text": [
      "Переменная diarrhea.1 (2 градации):\n",
      "Гипотеза о равенстве дисперсий отвергается (критерий Краскела-Уоллиса)\n",
      "Есть статистически значимая разница между средними (критерий Манна-Уитни)\n"
     ]
    }
   ],
   "source": [
    "import pandas as pd\n",
    "import scipy.stats as stats\n",
    "\n",
    "# Загрузка данных из файла\n",
    "data = pd.read_csv('data_big.csv')\n",
    "\n",
    "# Получение переменных\n",
    "diarrhea_variable = data['diarrhea.1']\n",
    "weakness_variable = data['weakness.1']\n",
    "\n",
    "# Проверка гипотезы о равенстве дисперсий (критерий Краскела-Уоллиса)\n",
    "h_statistic, p_value_h = stats.kruskal(diarrhea_variable, weakness_variable)\n",
    "\n",
    "alpha = 0.05\n",
    "\n",
    "print('Переменная diarrhea.1 (2 градации):')\n",
    "if p_value_h > alpha:\n",
    "    print(\"Гипотеза о равенстве дисперсий принимается (критерий Краскела-Уоллиса)\")\n",
    "else:\n",
    "    print(\"Гипотеза о равенстве дисперсий отвергается (критерий Краскела-Уоллиса)\")\n",
    "\n",
    "# Сравнение средних (критерий Манна-Уитни)\n",
    "u_statistic, p_value_u = stats.mannwhitneyu(diarrhea_variable, weakness_variable)\n",
    "\n",
    "if p_value_u > alpha:\n",
    "    print(\"Нет статистически значимой разницы между средними (критерий Манна-Уитни)\")\n",
    "else:\n",
    "    print(\"Есть статистически значимая разница между средними (критерий Манна-Уитни)\")\n"
   ]
  },
  {
   "cell_type": "code",
   "execution_count": 13,
   "id": "2fbfaa22",
   "metadata": {},
   "outputs": [
    {
     "name": "stdout",
     "output_type": "stream",
     "text": [
      "Переменная tremor.1 (3 градации):\n",
      "Гипотеза о равенстве дисперсий принимается (критерий Краскела-Уоллиса)\n",
      "Нет статистически значимой разницы между средними (критерий Манна-Уитни)\n"
     ]
    }
   ],
   "source": [
    "# Получение переменных\n",
    "tremor_variable = data['tremor.1']\n",
    "weakness_variable = data['weakness.1']\n",
    "\n",
    "# Проверка гипотезы о равенстве дисперсий (критерий Краскела-Уоллиса)\n",
    "h_statistic, p_value_h = stats.kruskal(tremor_variable, weakness_variable)\n",
    "\n",
    "alpha = 0.05\n",
    "\n",
    "print('Переменная tremor.1 (3 градации):')\n",
    "if p_value_h > alpha:\n",
    "    print(\"Гипотеза о равенстве дисперсий принимается (критерий Краскела-Уоллиса)\")\n",
    "else:\n",
    "    print(\"Гипотеза о равенстве дисперсий отвергается (критерий Краскела-Уоллиса)\")\n",
    "\n",
    "# Сравнение средних (критерий Манна-Уитни)\n",
    "u_statistic, p_value_u = stats.mannwhitneyu(tremor_variable, weakness_variable)\n",
    "\n",
    "if p_value_u > alpha:\n",
    "    print(\"Нет статистически значимой разницы между средними (критерий Манна-Уитни)\")\n",
    "else:\n",
    "    print(\"Есть статистически значимая разница между средними (критерий Манна-Уитни)\")\n"
   ]
  },
  {
   "cell_type": "code",
   "execution_count": 14,
   "id": "7171af4e",
   "metadata": {},
   "outputs": [
    {
     "name": "stdout",
     "output_type": "stream",
     "text": [
      "Нет статистически значимой разницы в изменениях (критерий Стьюдента для зависимых выборок)\n",
      "Нет статистически значимой разницы в изменениях (ранговый критерий Вилкоксона)\n"
     ]
    },
    {
     "name": "stderr",
     "output_type": "stream",
     "text": [
      "C:\\Python310\\lib\\site-packages\\scipy\\stats\\_morestats.py:3414: UserWarning: Exact p-value calculation does not work if there are zeros. Switching to normal approximation.\n",
      "  warnings.warn(\"Exact p-value calculation does not work if there are \"\n",
      "C:\\Python310\\lib\\site-packages\\scipy\\stats\\_morestats.py:3428: UserWarning: Sample size too small for normal approximation.\n",
      "  warnings.warn(\"Sample size too small for normal approximation.\")\n"
     ]
    }
   ],
   "source": [
    "# Получение переменных\n",
    "suspiciousness_1 = data['suspiciousness.1']\n",
    "suspiciousness_2 = data['suspiciousness.2']\n",
    "\n",
    "# Проверка однородности изменений по критерию Стьюдента для зависимых выборок\n",
    "t_statistic, p_value_t = stats.ttest_rel(suspiciousness_1, suspiciousness_2)\n",
    "\n",
    "alpha = 0.05\n",
    "\n",
    "if p_value_t > alpha:\n",
    "    print(\"Нет статистически значимой разницы в изменениях (критерий Стьюдента для зависимых выборок)\")\n",
    "else:\n",
    "    print(\"Есть статистически значимая разница в изменениях (критерий Стьюдента для зависимых выборок)\")\n",
    "\n",
    "# Проверка однородности изменений по ранговому критерию Вилкоксона\n",
    "w_statistic, p_value_w = stats.wilcoxon(suspiciousness_1, suspiciousness_2)\n",
    "\n",
    "if p_value_w > alpha:\n",
    "    print(\"Нет статистически значимой разницы в изменениях (ранговый критерий Вилкоксона)\")\n",
    "else:\n",
    "    print(\"Есть статистически значимая разница в изменениях (ранговый критерий Вилкоксона)\")"
   ]
  }
 ],
 "metadata": {
  "kernelspec": {
   "display_name": "Python 3 (ipykernel)",
   "language": "python",
   "name": "python3"
  },
  "language_info": {
   "codemirror_mode": {
    "name": "ipython",
    "version": 3
   },
   "file_extension": ".py",
   "mimetype": "text/x-python",
   "name": "python",
   "nbconvert_exporter": "python",
   "pygments_lexer": "ipython3",
   "version": "3.10.7"
  }
 },
 "nbformat": 4,
 "nbformat_minor": 5
}
