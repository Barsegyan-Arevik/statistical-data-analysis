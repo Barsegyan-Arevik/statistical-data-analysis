{
 "cells": [
  {
   "cell_type": "code",
   "execution_count": 13,
   "id": "9e2a73ef",
   "metadata": {},
   "outputs": [
    {
     "name": "stdout",
     "output_type": "stream",
     "text": [
      "Переменная: SBP.1\n",
      "Хи-квадрат статистика: 38.29722222222222\n",
      "p-значение хи-квадрат: 0.4559976299540941\n",
      "Одностороннее p-значение точного критерия Фишера: Точный критерий Фишера не может быть рассчитан для этих данных (должно быть по 2 уникальных значения)\n",
      "\n",
      "Переменная: DBP.1\n",
      "Хи-квадрат статистика: 27.91777777777778\n",
      "p-значение хи-квадрат: 0.7594656985238902\n",
      "Одностороннее p-значение точного критерия Фишера: Точный критерий Фишера не может быть рассчитан для этих данных (должно быть по 2 уникальных значения)\n",
      "\n",
      "Переменная: SV.1\n",
      "Хи-квадрат статистика: 57.25892857142858\n",
      "p-значение хи-квадрат: 0.22379778219738783\n",
      "Одностороннее p-значение точного критерия Фишера: Точный критерий Фишера не может быть рассчитан для этих данных (должно быть по 2 уникальных значения)\n",
      "\n",
      "Переменная: CO.1\n",
      "Хи-квадрат статистика: 46.19345238095237\n",
      "p-значение хи-квадрат: 0.7005595146800165\n",
      "Одностороннее p-значение точного критерия Фишера: Точный критерий Фишера не может быть рассчитан для этих данных (должно быть по 2 уникальных значения)\n",
      "\n"
     ]
    }
   ],
   "source": [
    "import pandas as pd\n",
    "import numpy as np\n",
    "import scipy.stats as stats\n",
    "import itertools\n",
    "\n",
    "data = pd.read_csv('data_big.csv')\n",
    "\n",
    "# Разделение данных на независимые переменные и зависимую переменную\n",
    "independent_vars = data[['SBP.1', 'DBP.1', 'SV.1', 'CO.1']]\n",
    "dependent_var = data['weakness.1']\n",
    "\n",
    "# Проверка независимости для каждой независимой переменной\n",
    "for var in independent_vars.columns:\n",
    "    contingency_table = pd.crosstab(data[var], dependent_var)\n",
    "    \n",
    "    # Критерий хи-квадрат\n",
    "    chi2_stat, p_value, _, _ = stats.chi2_contingency(contingency_table)\n",
    "    \n",
    "#     Точный критерий Фишера\n",
    "    try:\n",
    "        oddsratio, p_value_fisher = stats.fisher_exact(contingency_table)\n",
    "    except:\n",
    "        p_value_fisher = 'Точный критерий Фишера не может быть рассчитан для этих данных (должно быть по 2 уникальных значения)'\n",
    "\n",
    "    \n",
    "    print('Переменная:', var)\n",
    "    print('Хи-квадрат статистика:', chi2_stat)\n",
    "    print('p-значение хи-квадрат:', p_value)\n",
    "    print('Одностороннее p-значение точного критерия Фишера:', p_value_fisher)\n",
    "    print()\n",
    "\n",
    "    \n",
    "def entropy(x):\n",
    "    p = x / x.sum()\n",
    "    p = p[p != 0]\n",
    "    return -sum(p * np.log2(p))\n",
    "\n",
    "def uncertainty_coefficient(tab):\n",
    "    Hxy = entropy(tab.values.flatten())\n",
    "    Hx = entropy(tab.sum(axis=1))\n",
    "    Hy = entropy(tab.sum(axis=0))\n",
    "    I = Hx + Hy - Hxy\n",
    "    return [I / Hx, I / Hy, 2 * I / (Hx + Hy)] * 100\n",
    "\n",
    "\n",
    "# Коэффициенты неопределенности для пар независимых переменных\n",
    "X = data[['SBP.1', 'DBP.1']]\n",
    "y = data['weakness.1']\n",
    "\n",
    "def bin_encoding(X):\n",
    "    return X.apply(lambda x: x.shift().fillna(1) * x).sum(axis=1)\n",
    "\n",
    "def uncertainty_coefficients_multiple(x, X, k):\n",
    "    C = list(itertools.combinations(X.columns, k))\n",
    "    L = []\n",
    "    for z in C:\n",
    "        encoded = bin_encoding(X[list(z)])\n",
    "        table = pd.crosstab(x, encoded)\n",
    "        L.append(uncertainty_coefficient(table)[0])\n",
    "    df = pd.DataFrame(C, columns=[f\"Variable {i+1}\" for i in range(k)])\n",
    "    df[\"L\"] = L\n",
    "    return df.sort_values(by=\"L\", ascending=False)"
   ]
  },
  {
   "cell_type": "code",
   "execution_count": 9,
   "id": "4a2a9dff",
   "metadata": {},
   "outputs": [
    {
     "data": {
      "text/html": [
       "<div>\n",
       "<style scoped>\n",
       "    .dataframe tbody tr th:only-of-type {\n",
       "        vertical-align: middle;\n",
       "    }\n",
       "\n",
       "    .dataframe tbody tr th {\n",
       "        vertical-align: top;\n",
       "    }\n",
       "\n",
       "    .dataframe thead th {\n",
       "        text-align: right;\n",
       "    }\n",
       "</style>\n",
       "<table border=\"1\" class=\"dataframe\">\n",
       "  <thead>\n",
       "    <tr style=\"text-align: right;\">\n",
       "      <th></th>\n",
       "      <th>Variable 1</th>\n",
       "      <th>Variable 2</th>\n",
       "      <th>L</th>\n",
       "    </tr>\n",
       "  </thead>\n",
       "  <tbody>\n",
       "    <tr>\n",
       "      <th>0</th>\n",
       "      <td>SBP.1</td>\n",
       "      <td>DBP.1</td>\n",
       "      <td>1.0</td>\n",
       "    </tr>\n",
       "  </tbody>\n",
       "</table>\n",
       "</div>"
      ],
      "text/plain": [
       "  Variable 1 Variable 2    L\n",
       "0      SBP.1      DBP.1  1.0"
      ]
     },
     "execution_count": 9,
     "metadata": {},
     "output_type": "execute_result"
    }
   ],
   "source": [
    "# Коэффициенты неопределенности для пар независимых переменных\n",
    "pair_uncertainty = uncertainty_coefficients_multiple(y, X, k=2)\n",
    "pair_uncertainty"
   ]
  },
  {
   "cell_type": "code",
   "execution_count": 4,
   "id": "aa4b3246",
   "metadata": {},
   "outputs": [
    {
     "data": {
      "text/html": [
       "<div>\n",
       "<style scoped>\n",
       "    .dataframe tbody tr th:only-of-type {\n",
       "        vertical-align: middle;\n",
       "    }\n",
       "\n",
       "    .dataframe tbody tr th {\n",
       "        vertical-align: top;\n",
       "    }\n",
       "\n",
       "    .dataframe thead th {\n",
       "        text-align: right;\n",
       "    }\n",
       "</style>\n",
       "<table border=\"1\" class=\"dataframe\">\n",
       "  <thead>\n",
       "    <tr style=\"text-align: right;\">\n",
       "      <th></th>\n",
       "      <th>Variable 1</th>\n",
       "      <th>L</th>\n",
       "    </tr>\n",
       "  </thead>\n",
       "  <tbody>\n",
       "    <tr>\n",
       "      <th>1</th>\n",
       "      <td>DBP.1</td>\n",
       "      <td>0.956155</td>\n",
       "    </tr>\n",
       "    <tr>\n",
       "      <th>0</th>\n",
       "      <td>SBP.1</td>\n",
       "      <td>0.912310</td>\n",
       "    </tr>\n",
       "  </tbody>\n",
       "</table>\n",
       "</div>"
      ],
      "text/plain": [
       "  Variable 1         L\n",
       "1      DBP.1  0.956155\n",
       "0      SBP.1  0.912310"
      ]
     },
     "execution_count": 4,
     "metadata": {},
     "output_type": "execute_result"
    }
   ],
   "source": [
    "# Коэффициенты неопределенности для всех двух независимых переменных одновременно\n",
    "all_uncertainty = uncertainty_coefficients_multiple(y, X, k=1)\n",
    "all_uncertainty"
   ]
  }
 ],
 "metadata": {
  "kernelspec": {
   "display_name": "Python 3 (ipykernel)",
   "language": "python",
   "name": "python3"
  },
  "language_info": {
   "codemirror_mode": {
    "name": "ipython",
    "version": 3
   },
   "file_extension": ".py",
   "mimetype": "text/x-python",
   "name": "python",
   "nbconvert_exporter": "python",
   "pygments_lexer": "ipython3",
   "version": "3.10.7"
  }
 },
 "nbformat": 4,
 "nbformat_minor": 5
}
